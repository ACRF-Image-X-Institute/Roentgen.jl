{
 "cells": [
  {
   "attachments": {},
   "cell_type": "markdown",
   "metadata": {},
   "source": [
    "# Reconstruct the dose from a treatment plan\n",
    "\n",
    "This script calls `reconstruct_dose`, which\n",
    "calculates the dose for all fields in a treatment plan.\n",
    "\n",
    "To run this example, you will need:\n",
    "- A DICOM RT file\n",
    "- An external surface mesh, in STL or OBJ format\n",
    "- Finite Pencil Beam kernel data"
   ]
  },
  {
   "cell_type": "code",
   "execution_count": 1,
   "metadata": {},
   "outputs": [
    {
     "name": "stderr",
     "output_type": "stream",
     "text": [
      "\u001b[32m\u001b[1m  Activating\u001b[22m\u001b[39m project at `~/Code/DoseCalculations.jl/examples`\n"
     ]
    }
   ],
   "source": [
    "using Pkg; Pkg.activate(\".\")\n",
    "using DoseCalculations"
   ]
  },
  {
   "attachments": {},
   "cell_type": "markdown",
   "metadata": {},
   "source": [
    "## Setup\n",
    "\n",
    "Load the DICOM plan"
   ]
  },
  {
   "cell_type": "code",
   "execution_count": 2,
   "metadata": {},
   "outputs": [
    {
     "data": {
      "text/plain": [
       "2-element Vector{VMATField{Float64, MultiLeafCollimatorSequence{Array{Float64, 3}, Vector{Float64}}}}:\n",
       " 114, ϕg: -110.0°->110.0°, θb: 45.0°, MU: 1216.0\n",
       "\n",
       " 114, ϕg: 110.0°->-110.0°, θb: 315.0°, MU: 1204.0\n"
      ]
     },
     "metadata": {},
     "output_type": "display_data"
    }
   ],
   "source": [
    "plan = load_dicom(\"path/to/dicom/RP.....dcm\")"
   ]
  },
  {
   "attachments": {},
   "cell_type": "markdown",
   "metadata": {},
   "source": [
    "Load the external surface mesh, and create a cylindrical external surface:"
   ]
  },
  {
   "cell_type": "code",
   "execution_count": 3,
   "metadata": {},
   "outputs": [],
   "source": [
    "mesh = load_structure_from_ply(\"path/to/body.stl\")\n",
    "trans = patient_to_fixed(getisocenter(plan[1]))\n",
    "\n",
    "surf = CylindricalSurface(transform(mesh, trans));"
   ]
  },
  {
   "attachments": {},
   "cell_type": "markdown",
   "metadata": {},
   "source": [
    "Use the external surface to generate a set of dose points within the surface."
   ]
  },
  {
   "cell_type": "code",
   "execution_count": 4,
   "metadata": {},
   "outputs": [],
   "source": [
    "pos = DoseGridMasked(5., SurfaceBounds(surf), trans);"
   ]
  },
  {
   "attachments": {},
   "cell_type": "markdown",
   "metadata": {},
   "source": [
    "We'll setup the dose calculation algorithm, calibrating it at 100 MU = 1 Gy for 100cm² fieldsize at a source-axis distance of 1000m."
   ]
  },
  {
   "cell_type": "code",
   "execution_count": 5,
   "metadata": {},
   "outputs": [],
   "source": [
    "calc = FinitePencilBeamKernel(\"path/to/kernel/file.jld\")\n",
    "calibrate!(calc, 100., 100., 1000.);"
   ]
  },
  {
   "attachments": {},
   "cell_type": "markdown",
   "metadata": {},
   "source": [
    "## Dose Reconstruction\n",
    "\n",
    "Now we can call `reconstruct_dose`.\n",
    "This will iterate through every control point, computing dose for each aperture.\n",
    "\n",
    "*Note:* If you're in the REPL, you can set `show_progress=true` which will render a progress bar.\n",
    "It doesn't work in Jupyter Notebooks."
   ]
  },
  {
   "cell_type": "code",
   "execution_count": 6,
   "metadata": {},
   "outputs": [],
   "source": [
    "dose = reconstruct_dose(pos, surf, plan, calc; show_progress=false);"
   ]
  },
  {
   "attachments": {},
   "cell_type": "markdown",
   "metadata": {},
   "source": [
    "The dose can be stored for further analysis with other software:"
   ]
  },
  {
   "cell_type": "code",
   "execution_count": null,
   "metadata": {},
   "outputs": [],
   "source": [
    "write_nrrd(\"dose.nrrd\", pos, dose);"
   ]
  }
 ],
 "metadata": {
  "kernelspec": {
   "display_name": "Julia 1.9.1",
   "language": "julia",
   "name": "julia-1.9"
  },
  "language_info": {
   "file_extension": ".jl",
   "mimetype": "application/julia",
   "name": "julia",
   "version": "1.9.1"
  },
  "orig_nbformat": 4
 },
 "nbformat": 4,
 "nbformat_minor": 2
}
