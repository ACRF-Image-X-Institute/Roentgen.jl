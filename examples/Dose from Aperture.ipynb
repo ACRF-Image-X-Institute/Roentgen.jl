{
 "cells": [
  {
   "attachments": {},
   "cell_type": "markdown",
   "metadata": {},
   "source": [
    "# Compute Dose for a Single Aperture\n",
    "\n",
    "This example computes the dose in the patient's body from the first control point in the first\n",
    "field of the DICOM plan.\n",
    "\n",
    "To run this example, you will need:\n",
    "- A DICOM RT file\n",
    "- An external surface mesh, in STL or OBJ format\n",
    "- Finite Pencil Beam kernel data"
   ]
  },
  {
   "cell_type": "code",
   "execution_count": 1,
   "metadata": {},
   "outputs": [
    {
     "name": "stderr",
     "output_type": "stream",
     "text": [
      "\u001b[32m\u001b[1m  Activating\u001b[22m\u001b[39m project at `~/Code/DoseCalculations.jl/examples`\n"
     ]
    }
   ],
   "source": [
    "using Pkg; Pkg.activate(\".\")\n",
    "using DoseCalculations\n",
    "using SparseArrays"
   ]
  },
  {
   "attachments": {},
   "cell_type": "markdown",
   "metadata": {},
   "source": [
    "## Setup\n",
    "\n",
    "Load the DICOM plan, and select the first control point from the first field"
   ]
  },
  {
   "cell_type": "code",
   "execution_count": 2,
   "metadata": {},
   "outputs": [
    {
     "data": {
      "text/plain": [
       "ϕg: -110.0°,θb: 45.0°,ΔMU: 2.7551672\n"
      ]
     },
     "metadata": {},
     "output_type": "display_data"
    }
   ],
   "source": [
    "plan = load_dicom(\"path/to/dicom/RP.....dcm\")\n",
    "field = plan[1] # Select the first field\n",
    "controlpoint = field[1] # Select the first control point"
   ]
  },
  {
   "attachments": {},
   "cell_type": "markdown",
   "metadata": {},
   "source": [
    "Load the external surface mesh, and create a cylindrical external surface.\n",
    "This will take a while to compute, but is faster for general mesh-ray intersections used in the dose calculation later on.\n",
    "\n",
    "The library expects all positions to be in the IEC Fixed coordinate system.\n",
    "Depending on which coordinate system your mesh data is in, you may have to transform the mesh into IEC Fixed.\n",
    "In this example, the mesh is in the IEC Patient coordinate system."
   ]
  },
  {
   "cell_type": "code",
   "execution_count": 3,
   "metadata": {},
   "outputs": [],
   "source": [
    "mesh = load_structure_from_ply(\"path/to/body.stl\")\n",
    "trans = patient_to_fixed(getisocenter(controlpoint))\n",
    "\n",
    "surf = CylindricalSurface(transform(mesh, trans));"
   ]
  },
  {
   "attachments": {},
   "cell_type": "markdown",
   "metadata": {},
   "source": [
    "Use the external surface to generate a set of dose points within the surface.\n",
    "\n",
    "You may want your dose positions to not be in the IEC Fixed coordinate system for further analysis/visualisation with other tools.\n",
    "This is what the `trans` argument is in the call to `DoseGridMasked`.\n",
    "This will transform the external surface (which is in IEC Fixed) to whichever coordinate system you need (in this case, IEC Patient), and set your positions in that coordinate system.\n",
    "However, that will mean that these positions will have to be transformed back into the IEC Fixed coordinate system."
   ]
  },
  {
   "cell_type": "code",
   "execution_count": 4,
   "metadata": {},
   "outputs": [],
   "source": [
    "pos = DoseGridMasked(5., SurfaceBounds(surf), trans)\n",
    "pos_fixed = trans.(pos);"
   ]
  },
  {
   "attachments": {},
   "cell_type": "markdown",
   "metadata": {},
   "source": [
    "We'll setup the dose calculation algorithm, calibrating it at 100 MU = 1 Gy for 100cm² fieldsize at a source-axis distance of 1000m."
   ]
  },
  {
   "cell_type": "code",
   "execution_count": 5,
   "metadata": {},
   "outputs": [],
   "source": [
    "calc = FinitePencilBeamKernel(\"path/to/kernel/file.jld\")\n",
    "calibrate!(calc, 100., 100., 1000.);"
   ]
  },
  {
   "attachments": {},
   "cell_type": "markdown",
   "metadata": {},
   "source": [
    "Finally, we can set up the bixels and beamlets.\n",
    "Here, we choose the bixel grid such that it spans the jaw positions"
   ]
  },
  {
   "cell_type": "code",
   "execution_count": 6,
   "metadata": {},
   "outputs": [],
   "source": [
    "bixels = BixelGrid(getjaws(controlpoint), 5., 5.)\n",
    "beamlets = Beamlet.(bixels, Ref(getgantry(controlpoint)));"
   ]
  },
  {
   "attachments": {},
   "cell_type": "markdown",
   "metadata": {},
   "source": [
    "## Dose Calculation\n",
    "We then compute the fluence map from the MLC positions,"
   ]
  },
  {
   "cell_type": "code",
   "execution_count": 7,
   "metadata": {},
   "outputs": [],
   "source": [
    "Ψ = fluence(bixels, getmlc(controlpoint)); # Compute the fluence\n",
    "ΔMU = getΔMU(controlpoint);"
   ]
  },
  {
   "attachments": {},
   "cell_type": "markdown",
   "metadata": {},
   "source": [
    "Then compute the dose-fluence matrix.\n",
    "We'll use a sparse matrix here as there are potentially many points which are not near the treatment field.\n",
    "This saves on memory usage."
   ]
  },
  {
   "cell_type": "code",
   "execution_count": 8,
   "metadata": {},
   "outputs": [],
   "source": [
    "D = dose_fluence_matrix(SparseMatrixCSC, vec(pos), vec(beamlets), surf, calc);"
   ]
  },
  {
   "attachments": {},
   "cell_type": "markdown",
   "metadata": {},
   "source": [
    "To compute dose, the dose-fluence matrix and the fluence map are multiplied:"
   ]
  },
  {
   "cell_type": "code",
   "execution_count": 9,
   "metadata": {},
   "outputs": [],
   "source": [
    "dose = ΔMU*D*vec(Ψ);"
   ]
  },
  {
   "attachments": {},
   "cell_type": "markdown",
   "metadata": {},
   "source": [
    "We can save to file for visualisation in other software, such as Slicer or Paraview:"
   ]
  },
  {
   "cell_type": "code",
   "execution_count": 10,
   "metadata": {},
   "outputs": [],
   "source": [
    "# To VTK (Paraview)\n",
    "write_vtk(\"dose\", pos, \"dose\"=>dose)\n",
    "# To NRRD (Slicer)\n",
    "write_nrrd(\"dose.nrrd\", pos, dose);"
   ]
  }
 ],
 "metadata": {
  "kernelspec": {
   "display_name": "Julia 1.9.1",
   "language": "julia",
   "name": "julia-1.9"
  },
  "language_info": {
   "file_extension": ".jl",
   "mimetype": "application/julia",
   "name": "julia",
   "version": "1.9.1"
  },
  "orig_nbformat": 4
 },
 "nbformat": 4,
 "nbformat_minor": 2
}
